{
 "cells": [
  {
   "cell_type": "code",
   "execution_count": 1,
   "metadata": {},
   "outputs": [],
   "source": [
    "import numpy as np\n",
    "import pandas as pd\n",
    "import matplotlib.pyplot as plt"
   ]
  },
  {
   "cell_type": "code",
   "execution_count": 2,
   "metadata": {},
   "outputs": [],
   "source": [
    "class Leaf():\n",
    "    def __init__(self, label):\n",
    "        self.label = label\n",
    "\n",
    "class Node():\n",
    "    def __init__(self, column, split_value, left_subtree, right_subtree):\n",
    "        \"\"\"\n",
    "        column: int\n",
    "        split_value: float\n",
    "        left_subtree, right_subtree: Leaf/ Node\n",
    "        \"\"\"\n",
    "        self.column = column\n",
    "        self.split_value = split_value\n",
    "        self.left_subtree = left_subtree\n",
    "        self.right_subtree = right_subtree"
   ]
  },
  {
   "cell_type": "code",
   "execution_count": 3,
   "metadata": {},
   "outputs": [],
   "source": [
    "def get_tree_entropy(train, labels = [0,1,2]):\n",
    "    if train.empty:\n",
    "        return 0\n",
    "    entropy = 0\n",
    "    for label in labels:\n",
    "        class_data = train[train['y'] == label]\n",
    "        p = len(class_data)/ len(train)\n",
    "        entropy -= p * np.log(p + 1e-20)\n",
    "    return entropy\n",
    "\n",
    "def get_entropy(train, column, value):\n",
    "    train_left, train_right = split_data(train, column, value)\n",
    "    return get_tree_entropy(train_left) + get_tree_entropy(train_right)\n",
    "\n",
    "    \n",
    "def information_gain(train, column, tree_entropy):\n",
    "    min_entropy = float('inf')\n",
    "    split_value = 0\n",
    "    for value in train[train.columns[column]]:\n",
    "        entropy = get_entropy(train, column, value)\n",
    "        if entropy < min_entropy:\n",
    "            min_entropy, split_value = entropy, value\n",
    "    \n",
    "    ig = tree_entropy - min_entropy\n",
    "    return ig, split_value"
   ]
  },
  {
   "cell_type": "code",
   "execution_count": 4,
   "metadata": {},
   "outputs": [],
   "source": [
    "def split_data(train, column, split_value):\n",
    "    return train[train[column_dict[column]] <= split_value], train[train[column_dict[column]] > split_value]\n",
    "    \n",
    "def find_column(train, columns):\n",
    "    max_ig, ig = 0, 0\n",
    "    best_column, best_split_value = 0, 0\n",
    "    tree_entropy = get_tree_entropy(train)\n",
    "    for column in columns:\n",
    "        ig, split_value = information_gain(train, column, tree_entropy)\n",
    "        if ig > max_ig:\n",
    "            ig = max_ig\n",
    "            best_column = column\n",
    "            best_split_value = split_value\n",
    "            \n",
    "    return best_column, best_split_value\n",
    "\n",
    "def create_tree(train, depth, max_depth, columns):\n",
    "    print('Tree Entropy', get_tree_entropy(train))\n",
    "    if train.empty:\n",
    "        return None\n",
    "    if depth >= max_depth or get_tree_entropy(train) < 0.1:\n",
    "        counts = np.bincount(train['y'].values)\n",
    "        return Leaf(np.argmax(counts))\n",
    "\n",
    "    column, split_value = find_column(train, columns)\n",
    "    train_left, train_right = split_data(train, column, split_value)\n",
    "    node_left  = create_tree(train_left, depth+1, max_depth, columns)\n",
    "    node_right = create_tree(train_right, depth+1, max_depth, columns)\n",
    "    node = Node(column, split_value , node_left, node_right)\n",
    "    \n",
    "    return node"
   ]
  },
  {
   "cell_type": "code",
   "execution_count": 5,
   "metadata": {},
   "outputs": [
    {
     "name": "stdout",
     "output_type": "stream",
     "text": [
      "Tree Entropy 1.0967198394695579\n",
      "Tree Entropy 0.10719288797064877\n",
      "Tree Entropy 0.0\n",
      "Tree Entropy 0.0\n",
      "Tree Entropy 0.8884362530837849\n",
      "Tree Entropy 0.0\n",
      "Tree Entropy 0.7096755216035957\n",
      "Tree Entropy 0.0\n",
      "Tree Entropy 0.7091203186533157\n"
     ]
    },
    {
     "data": {
      "text/plain": [
       "3"
      ]
     },
     "execution_count": 5,
     "metadata": {},
     "output_type": "execute_result"
    }
   ],
   "source": [
    "column_dict = {0:'x0', 1:'x1', 2:'x2', 3:'x3'}\n",
    "df = pd.read_csv('trees.csv')\n",
    "train, test = df[:500], df[500:]\n",
    "columns =[0,1,2,3]\n",
    "\n",
    "node = create_tree(train, 0, 3, columns)\n",
    "node.column    "
   ]
  },
  {
   "cell_type": "code",
   "execution_count": 6,
   "metadata": {},
   "outputs": [
    {
     "data": {
      "text/html": [
       "<div>\n",
       "<style scoped>\n",
       "    .dataframe tbody tr th:only-of-type {\n",
       "        vertical-align: middle;\n",
       "    }\n",
       "\n",
       "    .dataframe tbody tr th {\n",
       "        vertical-align: top;\n",
       "    }\n",
       "\n",
       "    .dataframe thead th {\n",
       "        text-align: right;\n",
       "    }\n",
       "</style>\n",
       "<table border=\"1\" class=\"dataframe\">\n",
       "  <thead>\n",
       "    <tr style=\"text-align: right;\">\n",
       "      <th></th>\n",
       "      <th>x0</th>\n",
       "      <th>x1</th>\n",
       "      <th>x2</th>\n",
       "      <th>x3</th>\n",
       "      <th>y</th>\n",
       "    </tr>\n",
       "  </thead>\n",
       "  <tbody>\n",
       "    <tr>\n",
       "      <th>0</th>\n",
       "      <td>5.742</td>\n",
       "      <td>2.943</td>\n",
       "      <td>5.128</td>\n",
       "      <td>2.479</td>\n",
       "      <td>2</td>\n",
       "    </tr>\n",
       "    <tr>\n",
       "      <th>1</th>\n",
       "      <td>6.032</td>\n",
       "      <td>2.270</td>\n",
       "      <td>4.039</td>\n",
       "      <td>0.996</td>\n",
       "      <td>1</td>\n",
       "    </tr>\n",
       "    <tr>\n",
       "      <th>2</th>\n",
       "      <td>5.530</td>\n",
       "      <td>4.157</td>\n",
       "      <td>1.573</td>\n",
       "      <td>0.113</td>\n",
       "      <td>0</td>\n",
       "    </tr>\n",
       "    <tr>\n",
       "      <th>3</th>\n",
       "      <td>7.218</td>\n",
       "      <td>2.790</td>\n",
       "      <td>6.309</td>\n",
       "      <td>1.846</td>\n",
       "      <td>2</td>\n",
       "    </tr>\n",
       "    <tr>\n",
       "      <th>4</th>\n",
       "      <td>5.043</td>\n",
       "      <td>3.607</td>\n",
       "      <td>1.446</td>\n",
       "      <td>0.062</td>\n",
       "      <td>0</td>\n",
       "    </tr>\n",
       "  </tbody>\n",
       "</table>\n",
       "</div>"
      ],
      "text/plain": [
       "      x0     x1     x2     x3  y\n",
       "0  5.742  2.943  5.128  2.479  2\n",
       "1  6.032  2.270  4.039  0.996  1\n",
       "2  5.530  4.157  1.573  0.113  0\n",
       "3  7.218  2.790  6.309  1.846  2\n",
       "4  5.043  3.607  1.446  0.062  0"
      ]
     },
     "execution_count": 6,
     "metadata": {},
     "output_type": "execute_result"
    }
   ],
   "source": [
    "train.head()"
   ]
  },
  {
   "cell_type": "code",
   "execution_count": 7,
   "metadata": {},
   "outputs": [
    {
     "data": {
      "text/plain": [
       "1"
      ]
     },
     "execution_count": 7,
     "metadata": {},
     "output_type": "execute_result"
    }
   ],
   "source": [
    "a = [0,0,1,1,1,1,1,2]\n",
    "counts = np.bincount(a)\n",
    "np.argmax(counts)"
   ]
  },
  {
   "cell_type": "code",
   "execution_count": 10,
   "metadata": {},
   "outputs": [
    {
     "data": {
      "text/plain": [
       "3"
      ]
     },
     "execution_count": 10,
     "metadata": {},
     "output_type": "execute_result"
    }
   ],
   "source": [
    "node.column"
   ]
  },
  {
   "cell_type": "code",
   "execution_count": 8,
   "metadata": {},
   "outputs": [
    {
     "name": "stdout",
     "output_type": "stream",
     "text": [
      "3\n",
      "2\n"
     ]
    },
    {
     "ename": "AttributeError",
     "evalue": "'Leaf' object has no attribute 'column'",
     "output_type": "error",
     "traceback": [
      "\u001b[1;31m---------------------------------------------------------------------------\u001b[0m",
      "\u001b[1;31mAttributeError\u001b[0m                            Traceback (most recent call last)",
      "\u001b[1;32m<ipython-input-8-78c2b086ed0c>\u001b[0m in \u001b[0;36m<module>\u001b[1;34m\u001b[0m\n\u001b[0;32m      2\u001b[0m \u001b[1;33m\u001b[0m\u001b[0m\n\u001b[0;32m      3\u001b[0m \u001b[1;32mwhile\u001b[0m \u001b[0mroot\u001b[0m\u001b[1;33m:\u001b[0m\u001b[1;33m\u001b[0m\u001b[0m\n\u001b[1;32m----> 4\u001b[1;33m     \u001b[0mprint\u001b[0m\u001b[1;33m(\u001b[0m\u001b[0mroot\u001b[0m\u001b[1;33m.\u001b[0m\u001b[0mcolumn\u001b[0m\u001b[1;33m)\u001b[0m\u001b[1;33m\u001b[0m\u001b[0m\n\u001b[0m\u001b[0;32m      5\u001b[0m     \u001b[0mroot\u001b[0m \u001b[1;33m=\u001b[0m \u001b[0mroot\u001b[0m\u001b[1;33m.\u001b[0m\u001b[0mleft_subtree\u001b[0m\u001b[1;33m\u001b[0m\u001b[0m\n",
      "\u001b[1;31mAttributeError\u001b[0m: 'Leaf' object has no attribute 'column'"
     ]
    }
   ],
   "source": [
    "root = node\n",
    "\n",
    "while root:\n",
    "    print(root.column)\n",
    "    root = root.left_subtree"
   ]
  },
  {
   "cell_type": "code",
   "execution_count": null,
   "metadata": {},
   "outputs": [],
   "source": [
    "def predict(root, input_x):\n",
    "    \"\"\"\n",
    "    check if x(node.column) < node.split_value\n",
    "    if condition is true, continue using left otherwise right subtree.\n",
    "    If leaf reached, return leaf stored prediction.\n",
    "    \"\"\"\n",
    "    "
   ]
  }
 ],
 "metadata": {
  "kernelspec": {
   "display_name": "Python 3",
   "language": "python",
   "name": "python3"
  },
  "language_info": {
   "codemirror_mode": {
    "name": "ipython",
    "version": 3
   },
   "file_extension": ".py",
   "mimetype": "text/x-python",
   "name": "python",
   "nbconvert_exporter": "python",
   "pygments_lexer": "ipython3",
   "version": "3.6.5"
  }
 },
 "nbformat": 4,
 "nbformat_minor": 4
}
