{
 "cells": [
  {
   "cell_type": "code",
   "execution_count": 4,
   "metadata": {},
   "outputs": [
    {
     "data": {
      "text/html": [
       "<div>\n",
       "<style scoped>\n",
       "    .dataframe tbody tr th:only-of-type {\n",
       "        vertical-align: middle;\n",
       "    }\n",
       "\n",
       "    .dataframe tbody tr th {\n",
       "        vertical-align: top;\n",
       "    }\n",
       "\n",
       "    .dataframe thead th {\n",
       "        text-align: right;\n",
       "    }\n",
       "</style>\n",
       "<table border=\"1\" class=\"dataframe\">\n",
       "  <thead>\n",
       "    <tr style=\"text-align: right;\">\n",
       "      <th></th>\n",
       "      <th>0</th>\n",
       "      <th>1</th>\n",
       "      <th>2</th>\n",
       "      <th>3</th>\n",
       "      <th>4</th>\n",
       "      <th>5</th>\n",
       "    </tr>\n",
       "  </thead>\n",
       "  <tbody>\n",
       "    <tr>\n",
       "      <th>0</th>\n",
       "      <td>0</td>\n",
       "      <td>Rainy</td>\n",
       "      <td>Hot</td>\n",
       "      <td>High</td>\n",
       "      <td>False</td>\n",
       "      <td>No</td>\n",
       "    </tr>\n",
       "    <tr>\n",
       "      <th>1</th>\n",
       "      <td>1</td>\n",
       "      <td>Rainy</td>\n",
       "      <td>Hot</td>\n",
       "      <td>High</td>\n",
       "      <td>True</td>\n",
       "      <td>No</td>\n",
       "    </tr>\n",
       "    <tr>\n",
       "      <th>2</th>\n",
       "      <td>2</td>\n",
       "      <td>Overcast</td>\n",
       "      <td>Hot</td>\n",
       "      <td>High</td>\n",
       "      <td>False</td>\n",
       "      <td>Yes</td>\n",
       "    </tr>\n",
       "    <tr>\n",
       "      <th>3</th>\n",
       "      <td>3</td>\n",
       "      <td>Sunny</td>\n",
       "      <td>Mild</td>\n",
       "      <td>High</td>\n",
       "      <td>False</td>\n",
       "      <td>Yes</td>\n",
       "    </tr>\n",
       "    <tr>\n",
       "      <th>4</th>\n",
       "      <td>4</td>\n",
       "      <td>Sunny</td>\n",
       "      <td>Cool</td>\n",
       "      <td>Normal</td>\n",
       "      <td>False</td>\n",
       "      <td>Yes</td>\n",
       "    </tr>\n",
       "  </tbody>\n",
       "</table>\n",
       "</div>"
      ],
      "text/plain": [
       "   0         1     2       3      4    5\n",
       "0  0     Rainy   Hot    High  False   No\n",
       "1  1     Rainy   Hot    High   True   No\n",
       "2  2  Overcast   Hot    High  False  Yes\n",
       "3  3     Sunny  Mild    High  False  Yes\n",
       "4  4     Sunny  Cool  Normal  False  Yes"
      ]
     },
     "execution_count": 4,
     "metadata": {},
     "output_type": "execute_result"
    }
   ],
   "source": [
    "import pandas as pd\n",
    "import numpy as np\n",
    "from collections import defaultdict\n",
    "\n",
    "df = pd.read_csv('data.csv', header=None)\n",
    "df.head()"
   ]
  },
  {
   "cell_type": "code",
   "execution_count": 123,
   "metadata": {},
   "outputs": [],
   "source": [
    "def separate_by_class(df):\n",
    "    separate_data = dict()\n",
    "    for i in range(len(df)):\n",
    "        label = df.iloc[i,5]\n",
    "        if label not in separate_data:\n",
    "            separate_data[label] = []\n",
    "        separate_data[label].append(df.loc[i,1:len(df.columns)-2])\n",
    "    return separate_data\n",
    "        \n",
    "separate_data = separate_by_class(df)\n",
    "total_cls = [len(i) for i in separate_data.values()]"
   ]
  },
  {
   "cell_type": "code",
   "execution_count": 128,
   "metadata": {},
   "outputs": [],
   "source": [
    "def separate_by_subfeature(column, total):\n",
    "    unique = pd.DataFrame(column)[0].value_counts()\n",
    "    freq = {}\n",
    "    for k,v in zip(unique.keys(), unique):\n",
    "        freq[k] = v / float(total)\n",
    "    return freq\n",
    "\n",
    "    \n",
    "\n",
    "def separate_by_feat(data, total_cls):\n",
    "    final_data = {}\n",
    "    for j, key in enumerate(data.keys()):\n",
    "        if key not in final_data:\n",
    "            final_data[key] = {}\n",
    "        for i, column in enumerate(zip(*data[key])):\n",
    "            if i not in final_data[key]:\n",
    "                final_data[key][i] = separate_by_subfeature(column, total_cls[j])\n",
    "\n",
    "    return final_data\n",
    "\n",
    "\n",
    "\n",
    "table = separate_by_feat(separate_data, total_cls)"
   ]
  },
  {
   "cell_type": "code",
   "execution_count": 150,
   "metadata": {},
   "outputs": [
    {
     "name": "stdout",
     "output_type": "stream",
     "text": [
      "0.016460905349794237\n",
      "0.019200000000000005\n",
      "No\n"
     ]
    }
   ],
   "source": [
    "input_feat = ['Sunny', 'Hot', 'Normal', True]\n",
    "\n",
    "max_prob, pred = 0, 'Yes'\n",
    "labels = ['Yes', 'No']\n",
    "\n",
    "for label in labels:\n",
    "    prob = 1.\n",
    "    for i, feat in enumerate(input_feat):\n",
    "        if feat not in table[label][i]:\n",
    "            prob= 0\n",
    "            break\n",
    "        prob *= table[label][i][feat]\n",
    "    if prob > max_prob:\n",
    "        max_prob = prob\n",
    "        pred = label\n",
    "\n",
    "print(pred)"
   ]
  }
 ],
 "metadata": {
  "kernelspec": {
   "display_name": "Python 3",
   "language": "python",
   "name": "python3"
  },
  "language_info": {
   "codemirror_mode": {
    "name": "ipython",
    "version": 3
   },
   "file_extension": ".py",
   "mimetype": "text/x-python",
   "name": "python",
   "nbconvert_exporter": "python",
   "pygments_lexer": "ipython3",
   "version": "3.6.5"
  }
 },
 "nbformat": 4,
 "nbformat_minor": 4
}
